{
 "cells": [
  {
   "cell_type": "code",
   "execution_count": 1,
   "id": "a963ba59",
   "metadata": {},
   "outputs": [],
   "source": [
    "import requests\n",
    "import json\n",
    "from bs4 import BeautifulSoup as bs\n",
    "import pandas as pd"
   ]
  },
  {
   "cell_type": "code",
   "execution_count": 2,
   "id": "c3d6c6de",
   "metadata": {},
   "outputs": [
    {
     "data": {
      "text/plain": [
       "'https://www.fotmob.com/es/matches/birmingham-city-vs-ipswich-town/2uk1ke#4825019'"
      ]
     },
     "execution_count": 2,
     "metadata": {},
     "output_type": "execute_result"
    }
   ],
   "source": [
    "url_input = input('Enter URL')\n",
    "url_input"
   ]
  },
  {
   "cell_type": "code",
   "execution_count": 3,
   "id": "cfeb6011",
   "metadata": {},
   "outputs": [],
   "source": [
    "url = url_input\n",
    "\n",
    "r = requests.get(url)\n",
    "\n",
    "soup = bs(r.content)\n",
    "\n",
    "# Load what we need in json_fotmob variable\n",
    "\n",
    "json_fotmob = json.loads(soup.find('script', attrs={'id': '__NEXT_DATA__'}).contents[0])"
   ]
  },
  {
   "cell_type": "code",
   "execution_count": 4,
   "id": "2b1f553f",
   "metadata": {},
   "outputs": [
    {
     "data": {
      "text/plain": [
       "dict_keys(['props', 'page', 'query', 'buildId', 'isFallback', 'isExperimentalCompile', 'dynamicIds', 'gssp', 'appGip', 'scriptLoader'])"
      ]
     },
     "execution_count": 4,
     "metadata": {},
     "output_type": "execute_result"
    }
   ],
   "source": [
    "json_fotmob.keys()"
   ]
  },
  {
   "cell_type": "markdown",
   "id": "224d82c3",
   "metadata": {},
   "source": [
    "url"
   ]
  },
  {
   "cell_type": "code",
   "execution_count": 15,
   "id": "0da4f00a",
   "metadata": {},
   "outputs": [
    {
     "data": {
      "text/plain": [
       "'/es/matches/birmingham-city-vs-ipswich-town/2uk1ke'"
      ]
     },
     "execution_count": 15,
     "metadata": {},
     "output_type": "execute_result"
    }
   ],
   "source": [
    "url = json_fotmob['props']['url']\n",
    "url"
   ]
  },
  {
   "cell_type": "markdown",
   "id": "6241528b",
   "metadata": {},
   "source": [
    "match id"
   ]
  },
  {
   "cell_type": "code",
   "execution_count": 17,
   "id": "0ec0e2df",
   "metadata": {},
   "outputs": [
    {
     "data": {
      "text/plain": [
       "'4825019'"
      ]
     },
     "execution_count": 17,
     "metadata": {},
     "output_type": "execute_result"
    }
   ],
   "source": [
    "matchId = json_fotmob['props']['pageProps']['general']['matchId']\n",
    "matchId"
   ]
  },
  {
   "cell_type": "markdown",
   "id": "7a26c62f",
   "metadata": {},
   "source": [
    "full url"
   ]
  },
  {
   "cell_type": "code",
   "execution_count": 18,
   "id": "50b2e41a",
   "metadata": {},
   "outputs": [
    {
     "data": {
      "text/plain": [
       "'www.fotmob.com/es/matches/birmingham-city-vs-ipswich-town/2uk1ke#4825019'"
      ]
     },
     "execution_count": 18,
     "metadata": {},
     "output_type": "execute_result"
    }
   ],
   "source": [
    "fullUrl = f\"www.fotmob.com{url}#{matchId}\"\n",
    "fullUrl"
   ]
  },
  {
   "cell_type": "markdown",
   "id": "b1314912",
   "metadata": {},
   "source": [
    "general info of the game"
   ]
  },
  {
   "cell_type": "code",
   "execution_count": 13,
   "id": "86371cf5",
   "metadata": {},
   "outputs": [
    {
     "data": {
      "text/plain": [
       "{'matchId': '4825019',\n",
       " 'matchName': 'Birmingham City-vs-Ipswich Town_Fri, Aug 8, 2025, 19:00 UTC',\n",
       " 'matchRound': '1',\n",
       " 'teamColors': {'darkMode': {'home': '#0053bb', 'away': '#E2241B'},\n",
       "  'lightMode': {'home': '#0032A0', 'away': '#E2241B'},\n",
       "  'fontDarkMode': {'home': 'rgba(255, 255, 255, 1.0)',\n",
       "   'away': 'rgba(255, 255, 255, 1.0)'},\n",
       "  'fontLightMode': {'home': 'rgba(255, 255, 255, 1.0)',\n",
       "   'away': 'rgba(255, 255, 255, 1.0)'}},\n",
       " 'leagueId': 900638,\n",
       " 'leagueName': 'Championship',\n",
       " 'leagueRoundName': '1',\n",
       " 'parentLeagueId': 48,\n",
       " 'countryCode': 'ENG',\n",
       " 'homeTeam': {'name': 'Birmingham City', 'id': 8658},\n",
       " 'awayTeam': {'name': 'Ipswich Town', 'id': 9902},\n",
       " 'coverageLevel': 'xG',\n",
       " 'matchTimeUTC': 'Fri, Aug 8, 2025, 19:00 UTC',\n",
       " 'matchTimeUTCDate': '2025-08-08T19:00:00.000Z',\n",
       " 'started': True,\n",
       " 'finished': True}"
      ]
     },
     "execution_count": 13,
     "metadata": {},
     "output_type": "execute_result"
    }
   ],
   "source": [
    "json_fotmob['props']['pageProps']['general']"
   ]
  }
 ],
 "metadata": {
  "kernelspec": {
   "display_name": "mplsoccer",
   "language": "python",
   "name": "python3"
  },
  "language_info": {
   "codemirror_mode": {
    "name": "ipython",
    "version": 3
   },
   "file_extension": ".py",
   "mimetype": "text/x-python",
   "name": "python",
   "nbconvert_exporter": "python",
   "pygments_lexer": "ipython3",
   "version": "3.12.4"
  }
 },
 "nbformat": 4,
 "nbformat_minor": 5
}
