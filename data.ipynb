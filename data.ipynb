{
 "cells": [
  {
   "cell_type": "code",
   "execution_count": 1,
   "id": "a963ba59",
   "metadata": {},
   "outputs": [],
   "source": [
    "import requests\n",
    "import json\n",
    "from bs4 import BeautifulSoup as bs\n",
    "import pandas as pd"
   ]
  },
  {
   "cell_type": "code",
   "execution_count": 2,
   "id": "c3d6c6de",
   "metadata": {},
   "outputs": [
    {
     "data": {
      "text/plain": [
       "'https://www.fotmob.com/es/matches/birmingham-city-vs-ipswich-town/2uk1ke#4825019'"
      ]
     },
     "execution_count": 2,
     "metadata": {},
     "output_type": "execute_result"
    }
   ],
   "source": [
    "url_input = input('Enter URL')\n",
    "url_input"
   ]
  },
  {
   "cell_type": "code",
   "execution_count": 3,
   "id": "cfeb6011",
   "metadata": {},
   "outputs": [],
   "source": [
    "url = url_input\n",
    "\n",
    "r = requests.get(url)\n",
    "\n",
    "soup = bs(r.content)\n",
    "\n",
    "# Load what we need in json_fotmob variable\n",
    "\n",
    "json_fotmob = json.loads(soup.find('script', attrs={'id': '__NEXT_DATA__'}).contents[0])"
   ]
  },
  {
   "cell_type": "code",
   "execution_count": 4,
   "id": "2b1f553f",
   "metadata": {},
   "outputs": [
    {
     "data": {
      "text/plain": [
       "dict_keys(['props', 'page', 'query', 'buildId', 'isFallback', 'isExperimentalCompile', 'dynamicIds', 'gssp', 'appGip', 'scriptLoader'])"
      ]
     },
     "execution_count": 4,
     "metadata": {},
     "output_type": "execute_result"
    }
   ],
   "source": [
    "json_fotmob.keys()"
   ]
  },
  {
   "cell_type": "markdown",
   "id": "224d82c3",
   "metadata": {},
   "source": [
    "url"
   ]
  },
  {
   "cell_type": "code",
   "execution_count": 5,
   "id": "0da4f00a",
   "metadata": {},
   "outputs": [
    {
     "data": {
      "text/plain": [
       "'/es/matches/birmingham-city-vs-ipswich-town/2uk1ke'"
      ]
     },
     "execution_count": 5,
     "metadata": {},
     "output_type": "execute_result"
    }
   ],
   "source": [
    "url = json_fotmob['props']['url']\n",
    "url"
   ]
  },
  {
   "cell_type": "markdown",
   "id": "6241528b",
   "metadata": {},
   "source": [
    "match id"
   ]
  },
  {
   "cell_type": "code",
   "execution_count": 17,
   "id": "0ec0e2df",
   "metadata": {},
   "outputs": [
    {
     "data": {
      "text/plain": [
       "'4825019'"
      ]
     },
     "execution_count": 17,
     "metadata": {},
     "output_type": "execute_result"
    }
   ],
   "source": [
    "matchId = json_fotmob['props']['pageProps']['general']['matchId']\n",
    "matchId"
   ]
  },
  {
   "cell_type": "markdown",
   "id": "7a26c62f",
   "metadata": {},
   "source": [
    "full url"
   ]
  },
  {
   "cell_type": "code",
   "execution_count": 42,
   "id": "50b2e41a",
   "metadata": {},
   "outputs": [
    {
     "data": {
      "text/plain": [
       "'https://www.fotmob.com/es/matches/birmingham-city-vs-ipswich-town/2uk1ke#4825019'"
      ]
     },
     "execution_count": 42,
     "metadata": {},
     "output_type": "execute_result"
    }
   ],
   "source": [
    "fullUrl = f\"https://www.fotmob.com{url}#{matchId}\"\n",
    "fullUrl"
   ]
  },
  {
   "cell_type": "markdown",
   "id": "b1314912",
   "metadata": {},
   "source": [
    "general info of the game"
   ]
  },
  {
   "cell_type": "code",
   "execution_count": 13,
   "id": "86371cf5",
   "metadata": {},
   "outputs": [
    {
     "data": {
      "text/plain": [
       "{'matchId': '4825019',\n",
       " 'matchName': 'Birmingham City-vs-Ipswich Town_Fri, Aug 8, 2025, 19:00 UTC',\n",
       " 'matchRound': '1',\n",
       " 'teamColors': {'darkMode': {'home': '#0053bb', 'away': '#E2241B'},\n",
       "  'lightMode': {'home': '#0032A0', 'away': '#E2241B'},\n",
       "  'fontDarkMode': {'home': 'rgba(255, 255, 255, 1.0)',\n",
       "   'away': 'rgba(255, 255, 255, 1.0)'},\n",
       "  'fontLightMode': {'home': 'rgba(255, 255, 255, 1.0)',\n",
       "   'away': 'rgba(255, 255, 255, 1.0)'}},\n",
       " 'leagueId': 900638,\n",
       " 'leagueName': 'Championship',\n",
       " 'leagueRoundName': '1',\n",
       " 'parentLeagueId': 48,\n",
       " 'countryCode': 'ENG',\n",
       " 'homeTeam': {'name': 'Birmingham City', 'id': 8658},\n",
       " 'awayTeam': {'name': 'Ipswich Town', 'id': 9902},\n",
       " 'coverageLevel': 'xG',\n",
       " 'matchTimeUTC': 'Fri, Aug 8, 2025, 19:00 UTC',\n",
       " 'matchTimeUTCDate': '2025-08-08T19:00:00.000Z',\n",
       " 'started': True,\n",
       " 'finished': True}"
      ]
     },
     "execution_count": 13,
     "metadata": {},
     "output_type": "execute_result"
    }
   ],
   "source": [
    "json_fotmob['props']['pageProps']['general']"
   ]
  },
  {
   "cell_type": "markdown",
   "id": "a42583c3",
   "metadata": {},
   "source": [
    "match round"
   ]
  },
  {
   "cell_type": "code",
   "execution_count": 22,
   "id": "90dfe670",
   "metadata": {},
   "outputs": [
    {
     "data": {
      "text/plain": [
       "'1'"
      ]
     },
     "execution_count": 22,
     "metadata": {},
     "output_type": "execute_result"
    }
   ],
   "source": [
    "matchRound = json_fotmob['props']['pageProps']['general']['matchRound']\n",
    "matchRound"
   ]
  },
  {
   "cell_type": "markdown",
   "id": "a25ca388",
   "metadata": {},
   "source": [
    "home team name"
   ]
  },
  {
   "cell_type": "code",
   "execution_count": 27,
   "id": "0e1ca9ad",
   "metadata": {},
   "outputs": [
    {
     "data": {
      "text/plain": [
       "'Birmingham City'"
      ]
     },
     "execution_count": 27,
     "metadata": {},
     "output_type": "execute_result"
    }
   ],
   "source": [
    "homeTeamName = json_fotmob['props']['pageProps']['general']['homeTeam']['name']\n",
    "homeTeamName"
   ]
  },
  {
   "cell_type": "markdown",
   "id": "eaabd8c5",
   "metadata": {},
   "source": [
    "home team id"
   ]
  },
  {
   "cell_type": "code",
   "execution_count": 28,
   "id": "3534d5d5",
   "metadata": {},
   "outputs": [
    {
     "data": {
      "text/plain": [
       "8658"
      ]
     },
     "execution_count": 28,
     "metadata": {},
     "output_type": "execute_result"
    }
   ],
   "source": [
    "homeTeamid = json_fotmob['props']['pageProps']['general']['homeTeam']['id']\n",
    "homeTeamid"
   ]
  },
  {
   "cell_type": "markdown",
   "id": "3a0add75",
   "metadata": {},
   "source": [
    "away team name"
   ]
  },
  {
   "cell_type": "code",
   "execution_count": 29,
   "id": "eff24693",
   "metadata": {},
   "outputs": [
    {
     "data": {
      "text/plain": [
       "'Ipswich Town'"
      ]
     },
     "execution_count": 29,
     "metadata": {},
     "output_type": "execute_result"
    }
   ],
   "source": [
    "awayTeamName = json_fotmob['props']['pageProps']['general']['awayTeam']['name']\n",
    "awayTeamName"
   ]
  },
  {
   "cell_type": "markdown",
   "id": "7962aa6d",
   "metadata": {},
   "source": [
    "away team id"
   ]
  },
  {
   "cell_type": "code",
   "execution_count": 30,
   "id": "43396d68",
   "metadata": {},
   "outputs": [
    {
     "data": {
      "text/plain": [
       "9902"
      ]
     },
     "execution_count": 30,
     "metadata": {},
     "output_type": "execute_result"
    }
   ],
   "source": [
    "awayTeamid = json_fotmob['props']['pageProps']['general']['awayTeam']['id']\n",
    "awayTeamid"
   ]
  },
  {
   "cell_type": "markdown",
   "id": "3c22549b",
   "metadata": {},
   "source": [
    "match date"
   ]
  },
  {
   "cell_type": "code",
   "execution_count": 41,
   "id": "155cae11",
   "metadata": {},
   "outputs": [
    {
     "data": {
      "text/plain": [
       "'2025-08-08T19:00:00.000Z'"
      ]
     },
     "execution_count": 41,
     "metadata": {},
     "output_type": "execute_result"
    }
   ],
   "source": [
    "matchDate = json_fotmob['props']['pageProps']['general']['matchTimeUTCDate']\n",
    "matchDate"
   ]
  },
  {
   "cell_type": "markdown",
   "id": "3853c96e",
   "metadata": {},
   "source": [
    "home goals"
   ]
  },
  {
   "cell_type": "code",
   "execution_count": 51,
   "id": "858df1d8",
   "metadata": {},
   "outputs": [
    {
     "data": {
      "text/plain": [
       "1"
      ]
     },
     "execution_count": 51,
     "metadata": {},
     "output_type": "execute_result"
    }
   ],
   "source": [
    "home_goals = json_fotmob['props']['pageProps']['header']['teams'][0]['score']\n",
    "home_goals"
   ]
  },
  {
   "cell_type": "markdown",
   "id": "45bd74dc",
   "metadata": {},
   "source": [
    "away goals"
   ]
  },
  {
   "cell_type": "code",
   "execution_count": 52,
   "id": "12518f3f",
   "metadata": {},
   "outputs": [
    {
     "data": {
      "text/plain": [
       "1"
      ]
     },
     "execution_count": 52,
     "metadata": {},
     "output_type": "execute_result"
    }
   ],
   "source": [
    "away_goals = json_fotmob['props']['pageProps']['header']['teams'][1]['score']\n",
    "away_goals"
   ]
  },
  {
   "cell_type": "markdown",
   "id": "96b3c82d",
   "metadata": {},
   "source": [
    "home red cards"
   ]
  },
  {
   "cell_type": "code",
   "execution_count": 55,
   "id": "c9fc4b5b",
   "metadata": {},
   "outputs": [
    {
     "data": {
      "text/plain": [
       "0"
      ]
     },
     "execution_count": 55,
     "metadata": {},
     "output_type": "execute_result"
    }
   ],
   "source": [
    "home_red_cards = json_fotmob['props']['pageProps']['header']['status']['numberOfHomeRedCards']\n",
    "home_red_cards"
   ]
  },
  {
   "cell_type": "markdown",
   "id": "128d30dd",
   "metadata": {},
   "source": [
    "away red cards"
   ]
  },
  {
   "cell_type": "code",
   "execution_count": 56,
   "id": "8a6fbf75",
   "metadata": {},
   "outputs": [
    {
     "data": {
      "text/plain": [
       "0"
      ]
     },
     "execution_count": 56,
     "metadata": {},
     "output_type": "execute_result"
    }
   ],
   "source": [
    "away_red_cards = json_fotmob['props']['pageProps']['header']['status']['numberOfHomeRedCards']\n",
    "away_red_cards"
   ]
  },
  {
   "cell_type": "markdown",
   "id": "7d8291c5",
   "metadata": {},
   "source": [
    "Goals (home & away)"
   ]
  },
  {
   "cell_type": "code",
   "execution_count": 24,
   "id": "f7114f74",
   "metadata": {},
   "outputs": [
    {
     "data": {
      "text/plain": [
       "{'reactKey': '1297105855Goal1113816undefinedtrue',\n",
       " 'timeStr': 55,\n",
       " 'type': 'Goal',\n",
       " 'time': 55,\n",
       " 'overloadTime': None,\n",
       " 'eventId': 12971058,\n",
       " 'player': {'id': 1113816,\n",
       "  'name': 'Jay Stansfield',\n",
       "  'profileUrl': '/players/1113816/jay-stansfield'},\n",
       " 'homeScore': 0,\n",
       " 'awayScore': 0,\n",
       " 'profileUrl': '/players/1113816/jay-stansfield',\n",
       " 'overloadTimeStr': False,\n",
       " 'isHome': True,\n",
       " 'ownGoal': None,\n",
       " 'goalDescription': None,\n",
       " 'goalDescriptionKey': None,\n",
       " 'suffix': None,\n",
       " 'suffixKey': None,\n",
       " 'isPenaltyShootoutEvent': False,\n",
       " 'nameStr': 'Jay Stansfield',\n",
       " 'firstName': 'Jay',\n",
       " 'lastName': 'Stansfield',\n",
       " 'fullName': 'Jay Stansfield',\n",
       " 'playerId': 1113816,\n",
       " 'newScore': [1, 0],\n",
       " 'penShootoutScore': None,\n",
       " 'shotmapEvent': {'id': 2832725405,\n",
       "  'eventType': 'Goal',\n",
       "  'teamId': 8658,\n",
       "  'playerId': 1113816,\n",
       "  'playerName': 'Jay Stansfield',\n",
       "  'x': 97.7631578942,\n",
       "  'y': 33.161249999999995,\n",
       "  'min': 55,\n",
       "  'minAdded': None,\n",
       "  'isBlocked': False,\n",
       "  'isOnTarget': True,\n",
       "  'blockedX': None,\n",
       "  'blockedY': None,\n",
       "  'goalCrossedY': 34.22875,\n",
       "  'goalCrossedZ': 1.990526306,\n",
       "  'expectedGoals': 0.4902246296405792,\n",
       "  'expectedGoalsOnTarget': 0.9827867746353149,\n",
       "  'shotType': 'LeftFoot',\n",
       "  'situation': 'RegularPlay',\n",
       "  'period': 'SecondHalf',\n",
       "  'isOwnGoal': False,\n",
       "  'onGoalShot': {'x': 0.9394841269841275,\n",
       "   'y': 0.5265942608465608,\n",
       "   'zoomRatio': 1},\n",
       "  'isSavedOffLine': False,\n",
       "  'isFromInsideBox': True,\n",
       "  'keeperId': 643228,\n",
       "  'firstName': 'Jay',\n",
       "  'lastName': 'Stansfield',\n",
       "  'fullName': 'Jay Stansfield',\n",
       "  'teamColor': '#0032A0'},\n",
       " 'assistStr': None,\n",
       " 'assistProfileUrl': None}"
      ]
     },
     "execution_count": 24,
     "metadata": {},
     "output_type": "execute_result"
    }
   ],
   "source": [
    "json_fotmob['props']['pageProps']['header']['events']['homeTeamGoals']['Stansfield'][0]"
   ]
  },
  {
   "cell_type": "code",
   "execution_count": 25,
   "id": "498620fe",
   "metadata": {},
   "outputs": [
    {
     "data": {
      "text/plain": [
       "{'id': 614176,\n",
       " 'name': {'firstName': 'Keshi',\n",
       "  'lastName': 'Anderson',\n",
       "  'fullName': 'Keshi Anderson'},\n",
       " 'teamName': 'Birmingham City',\n",
       " 'teamId': 8658,\n",
       " 'rating': {'num': '7.8',\n",
       "  'isTop': {'isTopRating': True, 'isMatchFinished': True}},\n",
       " 'minutesPlayed': 89,\n",
       " 'shotmap': [{'id': 2832703761,\n",
       "   'eventType': 'AttemptSaved',\n",
       "   'teamId': 8658,\n",
       "   'playerId': 614176,\n",
       "   'playerName': 'Keshi Anderson',\n",
       "   'x': 78.3179611664,\n",
       "   'y': 31.7125,\n",
       "   'min': 39,\n",
       "   'minAdded': None,\n",
       "   'isBlocked': False,\n",
       "   'isOnTarget': True,\n",
       "   'blockedX': 103.6724137932,\n",
       "   'blockedY': 33.8475,\n",
       "   'goalCrossedY': 32.09375,\n",
       "   'goalCrossedZ': 0.2439999988,\n",
       "   'expectedGoals': 0.018190398812294006,\n",
       "   'expectedGoalsOnTarget': 0.10827428102493286,\n",
       "   'shotType': 'LeftFoot',\n",
       "   'situation': 'RegularPlay',\n",
       "   'period': 'FirstHalf',\n",
       "   'isOwnGoal': False,\n",
       "   'onGoalShot': {'x': 1.5042989417989419,\n",
       "    'y': 0.06455026423280423,\n",
       "    'zoomRatio': 1},\n",
       "   'isSavedOffLine': False,\n",
       "   'isFromInsideBox': False,\n",
       "   'keeperId': 643228,\n",
       "   'teamColor': '#0032A0'}],\n",
       " 'pageUrl': '/players/614176/keshi-anderson',\n",
       " 'isHomeTeam': True,\n",
       " 'stats': [{'title': 'Top stats',\n",
       "   'key': 'top_stats',\n",
       "   'stats': {'FotMob rating': {'key': 'rating_title',\n",
       "     'stat': {'value': 7.79, 'type': 'double'}},\n",
       "    'Minutes played': {'key': 'minutes_played',\n",
       "     'stat': {'value': 89, 'type': 'integer'}},\n",
       "    'Goals': {'key': 'goals', 'stat': {'value': 0, 'type': 'integer'}},\n",
       "    'Assists': {'key': 'assists', 'stat': {'value': 0, 'type': 'integer'}},\n",
       "    'Total shots': {'key': 'total_shots',\n",
       "     'stat': {'value': 1, 'type': 'integer'}},\n",
       "    'Shotmap': {'key': None, 'stat': {'value': 1, 'type': 'boolean'}},\n",
       "    'Accurate passes': {'key': 'accurate_passes',\n",
       "     'stat': {'value': 22, 'total': 29, 'type': 'fractionWithPercentage'}},\n",
       "    'Chances created': {'key': 'chances_created',\n",
       "     'stat': {'value': 0, 'type': 'integer'}},\n",
       "    'Expected goals (xG)': {'key': 'expected_goals',\n",
       "     'stat': {'value': 0.02, 'type': 'double'}},\n",
       "    'Expected goals on target (xGOT)': {'key': 'expected_goals_on_target_variant',\n",
       "     'stat': {'value': 0.11, 'type': 'double'}},\n",
       "    'Expected assists (xA)': {'key': 'expected_assists',\n",
       "     'stat': {'value': 0.01, 'type': 'double'}},\n",
       "    'xG + xA': {'key': 'xg_and_xa',\n",
       "     'stat': {'value': 0.03, 'type': 'double'}}}},\n",
       "  {'title': 'Attack',\n",
       "   'key': 'attack',\n",
       "   'stats': {'Shots on target': {'key': 'ShotsOnTarget',\n",
       "     'stat': {'value': 1, 'total': 1, 'type': 'fractionWithPercentage'}},\n",
       "    'Touches': {'key': 'touches', 'stat': {'value': 59, 'type': 'integer'}},\n",
       "    'Touches in opposition box': {'key': 'touches_opp_box',\n",
       "     'stat': {'value': 1, 'type': 'integer'}},\n",
       "    'Passes into final third': {'key': 'passes_into_final_third',\n",
       "     'stat': {'value': 2, 'type': 'integer'}},\n",
       "    'Accurate crosses': {'key': 'accurate_crosses',\n",
       "     'stat': {'value': 0, 'total': 3, 'type': 'fractionWithPercentage'}},\n",
       "    'Accurate long balls': {'key': 'long_balls_accurate',\n",
       "     'stat': {'value': 3, 'total': 3, 'type': 'fractionWithPercentage'}},\n",
       "    'Dispossessed': {'key': 'dispossessed',\n",
       "     'stat': {'value': 1, 'type': 'integer'}},\n",
       "    'xG Non-penalty': {'key': 'expected_goals_non_penalty',\n",
       "     'stat': {'value': 0.02, 'type': 'double'}}}},\n",
       "  {'title': 'Defense',\n",
       "   'key': 'defense',\n",
       "   'stats': {'Tackles won': {'key': 'tackles_succeeded',\n",
       "     'stat': {'value': 3, 'total': 6, 'type': 'fractionWithPercentage'}},\n",
       "    'Blocks': {'key': 'shot_blocks', 'stat': {'value': 0, 'type': 'integer'}},\n",
       "    'Clearances': {'key': 'clearances',\n",
       "     'stat': {'value': 0, 'type': 'integer'}},\n",
       "    'Interceptions': {'key': 'interceptions',\n",
       "     'stat': {'value': 1, 'type': 'integer'}},\n",
       "    'Defensive actions': {'key': 'defensive_actions',\n",
       "     'stat': {'value': 7, 'type': 'integer'}},\n",
       "    'Recoveries': {'key': 'recoveries',\n",
       "     'stat': {'value': 8, 'type': 'integer'}},\n",
       "    'Dribbled past': {'key': 'dribbled_past',\n",
       "     'stat': {'value': 0, 'type': 'integer'}}}},\n",
       "  {'title': 'Duels',\n",
       "   'key': 'duels',\n",
       "   'stats': {'Duels won': {'key': 'duel_won',\n",
       "     'stat': {'value': 14, 'type': 'integer'},\n",
       "     'hideInPopupCard': True},\n",
       "    'Duels lost': {'key': 'duel_lost',\n",
       "     'stat': {'value': 2, 'type': 'integer'},\n",
       "     'hideInPopupCard': True},\n",
       "    'Ground duels won': {'key': 'ground_duels_won',\n",
       "     'stat': {'value': 13, 'total': 15, 'type': 'fractionWithPercentage'}},\n",
       "    'Aerial duels won': {'key': 'aerials_won',\n",
       "     'stat': {'value': 1, 'total': 1, 'type': 'fractionWithPercentage'}},\n",
       "    'Was fouled': {'key': 'was_fouled',\n",
       "     'stat': {'value': 7, 'type': 'integer'}},\n",
       "    'Fouls committed': {'key': 'fouls',\n",
       "     'stat': {'value': 1, 'type': 'integer'}}}}],\n",
       " 'role': 'Attacker',\n",
       " 'teamData': {'home': {'id': 8658, 'color': '#0032A0'},\n",
       "  'away': {'id': 8658, 'color': '#0333A0'}}}"
      ]
     },
     "execution_count": 25,
     "metadata": {},
     "output_type": "execute_result"
    }
   ],
   "source": [
    "json_fotmob['props']['pageProps']['content']['matchFacts']['playerOfTheMatch']"
   ]
  }
 ],
 "metadata": {
  "kernelspec": {
   "display_name": "mplsoccer",
   "language": "python",
   "name": "python3"
  },
  "language_info": {
   "codemirror_mode": {
    "name": "ipython",
    "version": 3
   },
   "file_extension": ".py",
   "mimetype": "text/x-python",
   "name": "python",
   "nbconvert_exporter": "python",
   "pygments_lexer": "ipython3",
   "version": "3.12.4"
  }
 },
 "nbformat": 4,
 "nbformat_minor": 5
}
